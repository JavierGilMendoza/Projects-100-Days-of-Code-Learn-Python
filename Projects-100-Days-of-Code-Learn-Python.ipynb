{
 "cells": [
  {
   "cell_type": "markdown",
   "id": "6f0aeb56",
   "metadata": {},
   "source": [
    "# 100 Days of Code - Learn Python"
   ]
  },
  {
   "cell_type": "markdown",
   "id": "ff95e9ab",
   "metadata": {},
   "source": [
    "## Day 4 - 100 Days of Code: Project Day! Write your own story"
   ]
  }
 ],
 "metadata": {
  "language_info": {
   "name": "python"
  }
 },
 "nbformat": 4,
 "nbformat_minor": 5
}
